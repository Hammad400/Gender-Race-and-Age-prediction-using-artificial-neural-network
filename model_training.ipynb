{
 "cells": [
  {
   "cell_type": "markdown",
   "metadata": {},
   "source": [
    "## Import Modules"
   ]
  },
  {
   "cell_type": "code",
   "execution_count": 1,
   "metadata": {
    "execution": {
     "iopub.execute_input": "2022-06-17T02:05:29.453204Z",
     "iopub.status.busy": "2022-06-17T02:05:29.452528Z",
     "iopub.status.idle": "2022-06-17T02:05:36.024541Z",
     "shell.execute_reply": "2022-06-17T02:05:36.023833Z",
     "shell.execute_reply.started": "2022-06-17T02:05:29.453111Z"
    }
   },
   "outputs": [],
   "source": [
    "import pandas as pd\n",
    "import numpy as np\n",
    "import os\n",
    "import matplotlib.pyplot as plt\n",
    "import seaborn as sns\n",
    "import warnings\n",
    "from tqdm.notebook import tqdm\n",
    "warnings.filterwarnings('ignore')\n",
    "%matplotlib inline\n",
    "\n",
    "import tensorflow as tf\n",
    "from tensorflow.keras.preprocessing.image import load_img\n",
    "from tensorflow.keras.models import Sequential, Model\n",
    "from tensorflow.keras.layers import Dense, Conv2D, Dropout, Flatten, MaxPooling2D, Input"
   ]
  },
  {
   "cell_type": "markdown",
   "metadata": {},
   "source": [
    "## Load the Dataset"
   ]
  },
  {
   "cell_type": "code",
   "execution_count": 2,
   "metadata": {
    "execution": {
     "iopub.execute_input": "2022-06-17T02:05:36.026396Z",
     "iopub.status.busy": "2022-06-17T02:05:36.026012Z",
     "iopub.status.idle": "2022-06-17T02:05:36.030129Z",
     "shell.execute_reply": "2022-06-17T02:05:36.029270Z",
     "shell.execute_reply.started": "2022-06-17T02:05:36.026368Z"
    }
   },
   "outputs": [],
   "source": [
    "# this is dataset folder name\n",
    "BASE_DIR = '../input/utkface-new/UTKFace/'"
   ]
  },
  {
   "cell_type": "markdown",
   "metadata": {},
   "source": [
    "### extracting image paths,age labels,Gender labels and race labels from file names"
   ]
  },
  {
   "cell_type": "code",
   "execution_count": 3,
   "metadata": {
    "execution": {
     "iopub.execute_input": "2022-06-17T02:05:36.031599Z",
     "iopub.status.busy": "2022-06-17T02:05:36.031270Z",
     "iopub.status.idle": "2022-06-17T02:05:36.705244Z",
     "shell.execute_reply": "2022-06-17T02:05:36.704318Z",
     "shell.execute_reply.started": "2022-06-17T02:05:36.031566Z"
    }
   },
   "outputs": [],
   "source": [
    "# labels - age, gender, ethnicity\n",
    "image_paths = []\n",
    "age_labels = []\n",
    "gender_labels = []\n",
    "race_labels=[]\n",
    "\n",
    "for filename in tqdm(os.listdir(BASE_DIR)):\n",
    "    image_path = os.path.join(BASE_DIR, filename)\n",
    "    temp = filename.split('_')\n",
    "    age = int(temp[0])\n",
    "    gender = int(temp[1])\n",
    "    race= temp[2]\n",
    "    image_paths.append(image_path)\n",
    "    age_labels.append(age)\n",
    "    gender_labels.append(gender)\n",
    "    race_labels.append(race)"
   ]
  },
  {
   "cell_type": "code",
   "execution_count": 4,
   "metadata": {
    "execution": {
     "iopub.execute_input": "2022-06-17T02:05:36.707216Z",
     "iopub.status.busy": "2022-06-17T02:05:36.706934Z",
     "iopub.status.idle": "2022-06-17T02:05:36.714819Z",
     "shell.execute_reply": "2022-06-17T02:05:36.713914Z",
     "shell.execute_reply.started": "2022-06-17T02:05:36.707184Z"
    }
   },
   "outputs": [],
   "source": [
    "# first five lables of age\n",
    "age_labels[:5]"
   ]
  },
  {
   "cell_type": "code",
   "execution_count": 5,
   "metadata": {
    "execution": {
     "iopub.execute_input": "2022-06-17T02:05:36.716186Z",
     "iopub.status.busy": "2022-06-17T02:05:36.715900Z",
     "iopub.status.idle": "2022-06-17T02:05:36.727252Z",
     "shell.execute_reply": "2022-06-17T02:05:36.726139Z",
     "shell.execute_reply.started": "2022-06-17T02:05:36.716150Z"
    }
   },
   "outputs": [],
   "source": [
    "# first five lables of gender\n",
    "gender_labels[:5]"
   ]
  },
  {
   "cell_type": "code",
   "execution_count": 6,
   "metadata": {
    "execution": {
     "iopub.execute_input": "2022-06-17T02:05:36.728923Z",
     "iopub.status.busy": "2022-06-17T02:05:36.728660Z",
     "iopub.status.idle": "2022-06-17T02:05:36.737867Z",
     "shell.execute_reply": "2022-06-17T02:05:36.737089Z",
     "shell.execute_reply.started": "2022-06-17T02:05:36.728886Z"
    }
   },
   "outputs": [],
   "source": [
    "# first five lables of race\n",
    "race_labels[:5]"
   ]
  },
  {
   "cell_type": "markdown",
   "metadata": {},
   "source": [
    "### converting image paths,age,gender and race to dataframe"
   ]
  },
  {
   "cell_type": "code",
   "execution_count": 7,
   "metadata": {
    "execution": {
     "iopub.execute_input": "2022-06-17T02:05:36.739175Z",
     "iopub.status.busy": "2022-06-17T02:05:36.738931Z",
     "iopub.status.idle": "2022-06-17T02:05:36.807833Z",
     "shell.execute_reply": "2022-06-17T02:05:36.807154Z",
     "shell.execute_reply.started": "2022-06-17T02:05:36.739149Z"
    }
   },
   "outputs": [],
   "source": [
    "# convert to dataframe\n",
    "df = pd.DataFrame()\n",
    "df['image'], df['age'], df['gender'],df['race']= image_paths, age_labels, gender_labels,race_labels\n",
    "df.head()"
   ]
  },
  {
   "cell_type": "markdown",
   "metadata": {},
   "source": [
    "### checking for inconsistency in race labels as races are not converted into integer"
   ]
  },
  {
   "cell_type": "code",
   "execution_count": 8,
   "metadata": {
    "execution": {
     "iopub.execute_input": "2022-06-17T02:05:36.809613Z",
     "iopub.status.busy": "2022-06-17T02:05:36.809187Z",
     "iopub.status.idle": "2022-06-17T02:05:36.818257Z",
     "shell.execute_reply": "2022-06-17T02:05:36.817412Z",
     "shell.execute_reply.started": "2022-06-17T02:05:36.809581Z"
    }
   },
   "outputs": [],
   "source": [
    "\n",
    "df['race'].unique()"
   ]
  },
  {
   "cell_type": "markdown",
   "metadata": {},
   "source": [
    "here are some values like '20170109142408075.jpg.chip.jpg',\n",
    "'20170109150557335.jpg.chip.jpg', '20170116174525125.jpg.chip.jpg'\n",
    "  due to which race can not be converted into integer"
   ]
  },
  {
   "cell_type": "code",
   "execution_count": 9,
   "metadata": {
    "execution": {
     "iopub.execute_input": "2022-06-17T02:05:36.819770Z",
     "iopub.status.busy": "2022-06-17T02:05:36.819366Z",
     "iopub.status.idle": "2022-06-17T02:05:36.826494Z",
     "shell.execute_reply": "2022-06-17T02:05:36.825881Z",
     "shell.execute_reply.started": "2022-06-17T02:05:36.819736Z"
    }
   },
   "outputs": [],
   "source": [
    "# data type of race\n",
    "df['race'].dtype"
   ]
  },
  {
   "cell_type": "markdown",
   "metadata": {},
   "source": [
    "data type of race feature is object which shows it is non numerical so it is must to make race to be numerical"
   ]
  },
  {
   "cell_type": "markdown",
   "metadata": {},
   "source": [
    "### replacing abnormal values with null values"
   ]
  },
  {
   "cell_type": "code",
   "execution_count": 10,
   "metadata": {
    "execution": {
     "iopub.execute_input": "2022-06-17T02:05:36.829874Z",
     "iopub.status.busy": "2022-06-17T02:05:36.829076Z",
     "iopub.status.idle": "2022-06-17T02:05:36.846792Z",
     "shell.execute_reply": "2022-06-17T02:05:36.845944Z",
     "shell.execute_reply.started": "2022-06-17T02:05:36.829837Z"
    }
   },
   "outputs": [],
   "source": [
    "df['race']=df['race'].replace(['20170109142408075.jpg.chip.jpg',\n",
    "       '20170109150557335.jpg.chip.jpg', '20170116174525125.jpg.chip.jpg'],[np.nan,np.nan,np.nan])"
   ]
  },
  {
   "cell_type": "markdown",
   "metadata": {},
   "source": [
    "### removing null values"
   ]
  },
  {
   "cell_type": "code",
   "execution_count": 11,
   "metadata": {
    "execution": {
     "iopub.execute_input": "2022-06-17T02:05:36.849189Z",
     "iopub.status.busy": "2022-06-17T02:05:36.848120Z",
     "iopub.status.idle": "2022-06-17T02:05:36.867637Z",
     "shell.execute_reply": "2022-06-17T02:05:36.867000Z",
     "shell.execute_reply.started": "2022-06-17T02:05:36.849146Z"
    }
   },
   "outputs": [],
   "source": [
    "df=df.dropna()"
   ]
  },
  {
   "cell_type": "code",
   "execution_count": 12,
   "metadata": {
    "execution": {
     "iopub.execute_input": "2022-06-17T02:05:36.869932Z",
     "iopub.status.busy": "2022-06-17T02:05:36.869053Z",
     "iopub.status.idle": "2022-06-17T02:05:36.878273Z",
     "shell.execute_reply": "2022-06-17T02:05:36.877644Z",
     "shell.execute_reply.started": "2022-06-17T02:05:36.869889Z"
    }
   },
   "outputs": [],
   "source": [
    "df['race'].unique()"
   ]
  },
  {
   "cell_type": "markdown",
   "metadata": {},
   "source": [
    "now race can be converted into numerical as abnormal values are removed"
   ]
  },
  {
   "cell_type": "markdown",
   "metadata": {},
   "source": [
    "### converting race into numerical feature"
   ]
  },
  {
   "cell_type": "code",
   "execution_count": 13,
   "metadata": {
    "execution": {
     "iopub.execute_input": "2022-06-17T02:05:36.879909Z",
     "iopub.status.busy": "2022-06-17T02:05:36.879211Z",
     "iopub.status.idle": "2022-06-17T02:05:36.908930Z",
     "shell.execute_reply": "2022-06-17T02:05:36.907911Z",
     "shell.execute_reply.started": "2022-06-17T02:05:36.879873Z"
    }
   },
   "outputs": [],
   "source": [
    "df['race']=df['race'].apply(lambda x:int(x))"
   ]
  },
  {
   "cell_type": "markdown",
   "metadata": {},
   "source": [
    "### map labels for gender and race"
   ]
  },
  {
   "cell_type": "code",
   "execution_count": 14,
   "metadata": {
    "execution": {
     "iopub.execute_input": "2022-06-17T02:05:36.910725Z",
     "iopub.status.busy": "2022-06-17T02:05:36.910003Z",
     "iopub.status.idle": "2022-06-17T02:05:36.920778Z",
     "shell.execute_reply": "2022-06-17T02:05:36.919912Z",
     "shell.execute_reply.started": "2022-06-17T02:05:36.910687Z"
    }
   },
   "outputs": [],
   "source": [
    "\n",
    "gender_dict = {0:'Male', 1:'Female'}\n",
    "race_dict={0:'White', 1:'Black',2:'Asian',3:'Indian',4:'Others (like Hispanic, Latino, Middle Eastern)'}"
   ]
  },
  {
   "cell_type": "markdown",
   "metadata": {},
   "source": [
    "## Exploratory Data Analysis"
   ]
  },
  {
   "cell_type": "code",
   "execution_count": 15,
   "metadata": {
    "execution": {
     "iopub.execute_input": "2022-06-17T02:05:36.922223Z",
     "iopub.status.busy": "2022-06-17T02:05:36.921783Z",
     "iopub.status.idle": "2022-06-17T02:05:37.142224Z",
     "shell.execute_reply": "2022-06-17T02:05:37.141187Z",
     "shell.execute_reply.started": "2022-06-17T02:05:36.922191Z"
    }
   },
   "outputs": [],
   "source": [
    "# image at 0 index\n",
    "from PIL import Image\n",
    "img = Image.open(df['image'][0])\n",
    "plt.axis('off')\n",
    "plt.imshow(img);"
   ]
  },
  {
   "cell_type": "markdown",
   "metadata": {},
   "source": [
    "### histogram to show distribution of age feature"
   ]
  },
  {
   "cell_type": "code",
   "execution_count": 16,
   "metadata": {
    "execution": {
     "iopub.execute_input": "2022-06-17T02:05:37.143381Z",
     "iopub.status.busy": "2022-06-17T02:05:37.143177Z",
     "iopub.status.idle": "2022-06-17T02:05:37.699859Z",
     "shell.execute_reply": "2022-06-17T02:05:37.698868Z",
     "shell.execute_reply.started": "2022-06-17T02:05:37.143356Z"
    }
   },
   "outputs": [],
   "source": [
    "sns.distplot(df['age'])"
   ]
  },
  {
   "cell_type": "markdown",
   "metadata": {},
   "source": [
    "### Barchart to show value counts in gender feature"
   ]
  },
  {
   "cell_type": "code",
   "execution_count": 17,
   "metadata": {
    "execution": {
     "iopub.execute_input": "2022-06-17T02:05:37.701313Z",
     "iopub.status.busy": "2022-06-17T02:05:37.701007Z",
     "iopub.status.idle": "2022-06-17T02:05:38.060319Z",
     "shell.execute_reply": "2022-06-17T02:05:38.059423Z",
     "shell.execute_reply.started": "2022-06-17T02:05:37.701280Z"
    }
   },
   "outputs": [],
   "source": [
    "sns.countplot(df['gender'])"
   ]
  },
  {
   "cell_type": "markdown",
   "metadata": {},
   "source": [
    "### Barchart to show value counts in race feature"
   ]
  },
  {
   "cell_type": "code",
   "execution_count": 18,
   "metadata": {
    "execution": {
     "iopub.execute_input": "2022-06-17T02:05:38.061713Z",
     "iopub.status.busy": "2022-06-17T02:05:38.061456Z",
     "iopub.status.idle": "2022-06-17T02:05:38.269195Z",
     "shell.execute_reply": "2022-06-17T02:05:38.268335Z",
     "shell.execute_reply.started": "2022-06-17T02:05:38.061685Z"
    }
   },
   "outputs": [],
   "source": [
    "sns.countplot(df['race'])"
   ]
  },
  {
   "cell_type": "markdown",
   "metadata": {},
   "source": [
    "### showing first 25 images with age,gender and race"
   ]
  },
  {
   "cell_type": "code",
   "execution_count": 19,
   "metadata": {
    "execution": {
     "iopub.execute_input": "2022-06-17T02:05:38.270685Z",
     "iopub.status.busy": "2022-06-17T02:05:38.270445Z",
     "iopub.status.idle": "2022-06-17T02:05:41.031938Z",
     "shell.execute_reply": "2022-06-17T02:05:41.030847Z",
     "shell.execute_reply.started": "2022-06-17T02:05:38.270658Z"
    }
   },
   "outputs": [],
   "source": [
    "# to display grid of images\n",
    "plt.figure(figsize=(20, 20))\n",
    "files = df.iloc[0:25]\n",
    "\n",
    "for index, file, age, gender,race in files.itertuples():\n",
    "    plt.subplot(5, 5, index+1)\n",
    "    img = load_img(file)\n",
    "    img = np.array(img)\n",
    "    plt.imshow(img)\n",
    "    plt.title(f\"Age: {age} Gender: {gender_dict[gender]} Race:{race_dict[race]}\")\n",
    "    plt.axis('off')"
   ]
  },
  {
   "cell_type": "markdown",
   "metadata": {},
   "source": [
    "## Feature Extraction"
   ]
  },
  {
   "cell_type": "code",
   "execution_count": 20,
   "metadata": {
    "execution": {
     "iopub.execute_input": "2022-06-17T02:05:41.033701Z",
     "iopub.status.busy": "2022-06-17T02:05:41.033408Z",
     "iopub.status.idle": "2022-06-17T02:05:41.041861Z",
     "shell.execute_reply": "2022-06-17T02:05:41.040945Z",
     "shell.execute_reply.started": "2022-06-17T02:05:41.033666Z"
    }
   },
   "outputs": [],
   "source": [
    "# this function is used to resize images and convert images to arrays\n",
    "def extract_features(images):\n",
    "    features = []\n",
    "    for image in tqdm(images):\n",
    "        img = load_img(image, grayscale=True)\n",
    "        img = img.resize((128, 128), Image.ANTIALIAS)\n",
    "        img = np.array(img)\n",
    "        features.append(img)\n",
    "        \n",
    "    features = np.array(features)\n",
    "    # ignore this step if using RGB\n",
    "    features = features.reshape(len(features), 128, 128, 1)\n",
    "    return features"
   ]
  },
  {
   "cell_type": "code",
   "execution_count": null,
   "metadata": {
    "execution": {
     "iopub.execute_input": "2022-06-17T02:05:41.043391Z",
     "iopub.status.busy": "2022-06-17T02:05:41.043105Z"
    }
   },
   "outputs": [],
   "source": [
    "# call function for extraction\n",
    "X = extract_features(df['image'])"
   ]
  },
  {
   "cell_type": "markdown",
   "metadata": {},
   "source": [
    "X is inputs to CNN model X contains all images arrays"
   ]
  },
  {
   "cell_type": "code",
   "execution_count": null,
   "metadata": {},
   "outputs": [],
   "source": [
    "X.shape"
   ]
  },
  {
   "cell_type": "markdown",
   "metadata": {},
   "source": [
    "there are 23705 images. Every image have size of (128,128,1)"
   ]
  },
  {
   "cell_type": "markdown",
   "metadata": {},
   "source": [
    "#### normalizing the image arrays"
   ]
  },
  {
   "cell_type": "code",
   "execution_count": null,
   "metadata": {},
   "outputs": [],
   "source": [
    "X = X/255.0"
   ]
  },
  {
   "cell_type": "markdown",
   "metadata": {},
   "source": [
    "#### converting gender,race and age labels into one dimentional arrays"
   ]
  },
  {
   "cell_type": "code",
   "execution_count": null,
   "metadata": {},
   "outputs": [],
   "source": [
    "y_gender = np.array(df['gender'])\n",
    "y_race= np.array(df['race'])\n",
    "y_age = np.array(df['age'])"
   ]
  },
  {
   "cell_type": "markdown",
   "metadata": {},
   "source": [
    "## Model Creation"
   ]
  },
  {
   "cell_type": "markdown",
   "metadata": {},
   "source": [
    "This is convolutional neural network(CNN) model building <br>\n",
    "CNN model contains convolutional,maxpooling,flatten,dense,dropout and output layers <br>\n",
    "Segmoid,relue and softmax are activation functions"
   ]
  },
  {
   "cell_type": "code",
   "execution_count": null,
   "metadata": {},
   "outputs": [],
   "source": [
    "input_shape = (128, 128, 1)\n",
    "inputs = Input((input_shape))\n",
    "# convolutional layers\n",
    "conv_1 = Conv2D(32, kernel_size=(3, 3), activation='relu') (inputs)\n",
    "maxp_1 = MaxPooling2D(pool_size=(2, 2)) (conv_1)\n",
    "conv_2 = Conv2D(64, kernel_size=(3, 3), activation='relu') (maxp_1)\n",
    "maxp_2 = MaxPooling2D(pool_size=(2, 2)) (conv_2)\n",
    "conv_3 = Conv2D(128, kernel_size=(3, 3), activation='relu') (maxp_2)\n",
    "maxp_3 = MaxPooling2D(pool_size=(2, 2)) (conv_3)\n",
    "conv_4 = Conv2D(256, kernel_size=(3, 3), activation='relu') (maxp_3)\n",
    "maxp_4 = MaxPooling2D(pool_size=(2, 2)) (conv_4)\n",
    "\n",
    "flatten = Flatten() (maxp_4)\n",
    "\n",
    "# fully connected layers\n",
    "dense_1 = Dense(256, activation='relu') (flatten)\n",
    "dense_2 = Dense(256, activation='relu') (flatten)\n",
    "dense_3 = Dense(256, activation='relu') (flatten)\n",
    "\n",
    "dropout_1 = Dropout(0.3) (dense_1)\n",
    "dropout_2 = Dropout(0.3) (dense_2)\n",
    "dropout_3 = Dropout(0.3) (dense_3)\n",
    "\n",
    "output_1 = Dense(1, activation='sigmoid', name='gender_out') (dropout_1)\n",
    "output_2 = Dense(5, activation='softmax', name='race_out') (dropout_2)\n",
    "output_3 = Dense(1, activation='relu', name='age_out') (dropout_3)\n",
    "\n",
    "model = Model(inputs=[inputs], outputs=[output_1,output_2,output_3])\n",
    "\n"
   ]
  },
  {
   "cell_type": "markdown",
   "metadata": {},
   "source": [
    "### compilation of model"
   ]
  },
  {
   "cell_type": "code",
   "execution_count": null,
   "metadata": {},
   "outputs": [],
   "source": [
    "model.compile(loss=['binary_crossentropy','sparse_categorical_crossentropy' ,'mae'], optimizer='adam', metrics=['accuracy'])"
   ]
  },
  {
   "cell_type": "markdown",
   "metadata": {},
   "source": [
    "### ploting models"
   ]
  },
  {
   "cell_type": "code",
   "execution_count": null,
   "metadata": {},
   "outputs": [],
   "source": [
    "# plot the model\n",
    "from tensorflow.keras.utils import plot_model\n",
    "plot_model(model)"
   ]
  },
  {
   "cell_type": "markdown",
   "metadata": {},
   "source": [
    "### train model across inputs and outputs"
   ]
  },
  {
   "cell_type": "code",
   "execution_count": null,
   "metadata": {},
   "outputs": [],
   "source": [
    "\n",
    "history =model.fit(x=X, y=[y_gender,y_race, y_age], batch_size=3, epochs=10, validation_split=0.2)"
   ]
  },
  {
   "cell_type": "markdown",
   "metadata": {},
   "source": [
    "### saving model"
   ]
  },
  {
   "cell_type": "code",
   "execution_count": null,
   "metadata": {},
   "outputs": [],
   "source": [
    "model.save(\"cnn_model_for_gender_race_and_age.h5\")\n",
    "print(\"Saved model to disk\")"
   ]
  },
  {
   "cell_type": "markdown",
   "metadata": {},
   "source": [
    "## Plot the Results"
   ]
  },
  {
   "cell_type": "markdown",
   "metadata": {},
   "source": [
    "##### plot results for gender"
   ]
  },
  {
   "cell_type": "code",
   "execution_count": null,
   "metadata": {},
   "outputs": [],
   "source": [
    "\n",
    "acc = history.history['gender_out_accuracy']\n",
    "val_acc = history.history['val_gender_out_accuracy']\n",
    "epochs = range(len(acc))\n",
    "\n",
    "plt.plot(epochs, acc, 'b', label='Training Accuracy')\n",
    "plt.plot(epochs, val_acc, 'r', label='Validation Accuracy')\n",
    "plt.title('Accuracy Graph')\n",
    "plt.legend()\n",
    "plt.figure()\n",
    "\n",
    "loss = history.history['gender_out_loss']\n",
    "val_loss = history.history['val_gender_out_loss']\n",
    "\n",
    "plt.plot(epochs, loss, 'b', label='Training Loss')\n",
    "plt.plot(epochs, val_loss, 'r', label='Validation Loss')\n",
    "plt.title('Loss Graph')\n",
    "plt.legend()"
   ]
  },
  {
   "cell_type": "markdown",
   "metadata": {},
   "source": [
    "##### plot results for race"
   ]
  },
  {
   "cell_type": "code",
   "execution_count": null,
   "metadata": {},
   "outputs": [],
   "source": [
    "# plot results for gender\n",
    "acc = history.history['race_out_accuracy']\n",
    "val_acc = history.history['val_race_out_accuracy']\n",
    "epochs = range(len(acc))\n",
    "\n",
    "plt.plot(epochs, acc, 'b', label='Training Accuracy')\n",
    "plt.plot(epochs, val_acc, 'r', label='Validation Accuracy')\n",
    "plt.title('Accuracy Graph')\n",
    "plt.legend()\n",
    "plt.figure()\n",
    "\n",
    "loss = history.history['race_out_loss']\n",
    "val_loss = history.history['race_gender_out_loss']\n",
    "\n",
    "plt.plot(epochs, loss, 'b', label='Training Loss')\n",
    "plt.plot(epochs, val_loss, 'r', label='Validation Loss')\n",
    "plt.title('Loss Graph')\n",
    "plt.legend()"
   ]
  },
  {
   "cell_type": "markdown",
   "metadata": {},
   "source": [
    "##### plot results for age"
   ]
  },
  {
   "cell_type": "code",
   "execution_count": null,
   "metadata": {},
   "outputs": [],
   "source": [
    "# plot results for age\n",
    "loss = history.history['age_out_loss']\n",
    "val_loss = history.history['val_age_out_loss']\n",
    "epochs = range(len(loss))\n",
    "\n",
    "plt.plot(epochs, loss, 'b', label='Training Loss')\n",
    "plt.plot(epochs, val_loss, 'r', label='Validation Loss')\n",
    "plt.title('Loss Graph')\n",
    "plt.legend()\n",
    "plt.show()"
   ]
  },
  {
   "cell_type": "markdown",
   "metadata": {},
   "source": [
    "# Prediction with Test Data"
   ]
  },
  {
   "cell_type": "code",
   "execution_count": null,
   "metadata": {},
   "outputs": [],
   "source": [
    "image_index = 100\n",
    "print(\"Original Gender:\", gender_dict[y_gender[image_index]],\"Original Race:\",race_dict[y_race[image_index]], \"Original Age:\", y_age[image_index])\n",
    "# predict from model\n",
    "pred = model.predict(X[image_index].reshape(1, 128, 128, 1))\n",
    "pred_gender = gender_dict[round(pred[0][0][0])]\n",
    "pred_race = race_dict[round(pred[1][0][0])]\n",
    "pred_age = round(pred[2][0][0])\n",
    "print(\"Predicted Gender:\", pred_gender,Predicted Race:\", pred_race, \"Predicted Age:\", pred_age)\n",
    "plt.axis('off')\n",
    "plt.imshow(X[image_index].reshape(128, 128), cmap='gray');"
   ]
  }
 ],
 "metadata": {
  "kernelspec": {
   "display_name": "Python 3",
   "language": "python",
   "name": "python3"
  },
  "language_info": {
   "codemirror_mode": {
    "name": "ipython",
    "version": 3
   },
   "file_extension": ".py",
   "mimetype": "text/x-python",
   "name": "python",
   "nbconvert_exporter": "python",
   "pygments_lexer": "ipython3",
   "version": "3.9.1"
  }
 },
 "nbformat": 4,
 "nbformat_minor": 4
}
